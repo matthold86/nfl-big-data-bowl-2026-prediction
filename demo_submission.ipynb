{
 "cells": [
  {
   "cell_type": "code",
   "execution_count": null,
   "id": "8240d2ce",
   "metadata": {},
   "outputs": [],
   "source": [
    "\"\"\"\n",
    "The evaluation API requires that you set up a server which will respond to inference requests.\n",
    "We have already defined the server; you just need write the predict function.\n",
    "When we evaluate your submission on the hidden test set the client defined in `nfl_gateway` will run in a different container\n",
    "with direct access to the hidden test set and hand off the data timestep by timestep.\n",
    "Your code will always have access to the published copies of the copmetition files.\n",
    "\"\"\"\n",
    "\n",
    "import os\n",
    "\n",
    "import pandas as pd\n",
    "import polars as pl\n",
    "\n",
    "import kaggle_evaluation.nfl_inference_server\n",
    "\n",
    "\n",
    "def predict(test: pl.DataFrame, test_input: pl.DataFrame) -> pl.DataFrame | pd.DataFrame:\n",
    "    \"\"\"Replace this function with your inference code.\n",
    "    You can return either a Pandas or Polars dataframe, though Polars is recommended for performance.\n",
    "    Each batch of predictions (except the very first) must be returned within 5 minutes of the batch features being provided.\n",
    "    \"\"\"\n",
    "    predictions = pl.DataFrame({'x': [0.0] * len(test), 'y': [0.0] * len(test)})\n",
    "\n",
    "    assert isinstance(predictions, (pd.DataFrame, pl.DataFrame))\n",
    "    assert len(predictions) == len(test)\n",
    "    return predictions\n",
    "\n",
    "\n",
    "# When your notebook is run on the hidden test set, inference_server.serve must be called within 10 minutes of the notebook starting\n",
    "# or the gateway will throw an error. If you need more than 15 minutes to load your model you can do so during the very\n",
    "# first `predict` call, which does not have the usual 5 minute response deadline.\n",
    "inference_server = kaggle_evaluation.nfl_inference_server.NFLInferenceServer(predict)\n",
    "\n",
    "if os.getenv('KAGGLE_IS_COMPETITION_RERUN'):\n",
    "    inference_server.serve()\n",
    "else:\n",
    "    inference_server.run_local_gateway(('/kaggle/input/nfl-big-data-bowl-2026-prediction/',))\n"
   ]
  }
 ],
 "metadata": {
  "language_info": {
   "name": "python"
  }
 },
 "nbformat": 4,
 "nbformat_minor": 5
}
